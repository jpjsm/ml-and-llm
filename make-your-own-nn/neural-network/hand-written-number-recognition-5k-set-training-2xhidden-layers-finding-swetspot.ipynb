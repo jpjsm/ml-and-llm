{
 "cells": [
  {
   "cell_type": "code",
   "execution_count": null,
   "metadata": {},
   "outputs": [],
   "source": [
    "from NeuralNetworkHidden2 import NeuralNetworkHidden2\n",
    "import itertools\n",
    "import numpy"
   ]
  },
  {
   "cell_type": "markdown",
   "metadata": {},
   "source": [
    "## Constant definitions"
   ]
  },
  {
   "cell_type": "code",
   "execution_count": null,
   "metadata": {},
   "outputs": [],
   "source": [
    "input_nodes = 784\n",
    "output_nodes = 10\n",
    "significant_digits = 100000\n",
    "train_subset_size = 5000\n",
    "test_subset_size = 500\n",
    "\n",
    "# MNIST datasets\n",
    "with open(\"../mnist_dataset/mnist_train.csv\", \"r\", encoding=\"utf-8\", newline='\\n') as input:\n",
    "    mnist_train = input.readlines()\n",
    "\n",
    "with open(\"../mnist_dataset/mnist_test.csv\", \"r\", encoding=\"utf-8\", newline='\\n') as input:\n",
    "    mnist_test = input.readlines()\n"
   ]
  },
  {
   "cell_type": "markdown",
   "metadata": {},
   "source": [
    "## Varying parameters"
   ]
  },
  {
   "cell_type": "code",
   "execution_count": null,
   "metadata": {},
   "outputs": [],
   "source": [
    "hidden_nodes_values = [50, 75, 100, 150, 200, 300, 400]\n",
    "\n",
    "learning_rate_values = [0.05, 0.075, 0.09, 0.1, 0.2, 0.3, 0.5, 0.75]\n",
    "\n",
    "epochs_values = [1, 2, 3, 5, 8, 13]"
   ]
  },
  {
   "cell_type": "markdown",
   "metadata": {},
   "source": [
    "## Finding max accuracy"
   ]
  },
  {
   "cell_type": "code",
   "execution_count": null,
   "metadata": {},
   "outputs": [],
   "source": [
    "accuracy_values = {}\n",
    "\n",
    "for hidden_nodes, learning_rate, epochs in itertools.product(hidden_nodes_values, learning_rate_values, epochs_values):\n",
    "    # Neural network definition\n",
    "    nn = NeuralNetworkHidden2(input_nodes, hidden_nodes,output_nodes,learning_rate)\n",
    "\n",
    "    # Training Neural Network\n",
    "    training_data_list = numpy.random.choice(mnist_train, 5000)\n",
    "\n",
    "    for e in range(epochs):\n",
    "        for record in training_data_list:\n",
    "            all_values = record.split(',')\n",
    "            label = all_values[0]\n",
    "            input_values = (numpy.asfarray(all_values[1:])/255.0*0.99)+.01\n",
    "            target_values = numpy.zeros(output_nodes) + 0.01\n",
    "            target_values[int(all_values[0])] = 0.99\n",
    "            nn.train(input_values, target_values)\n",
    "\n",
    "    # Test Neural Network performance\n",
    "        \n",
    "    test_data_list = numpy.random.choice(mnist_train, 500)\n",
    "    scorecard = []\n",
    "    for test_case in test_data_list:\n",
    "        all_values = test_case.split(',')\n",
    "        label = all_values[0]\n",
    "        expected_label = int(label)\n",
    "\n",
    "        outputs = nn.query((numpy.asfarray(all_values[1:])/255.0*0.99)+.01)\n",
    "        actual_label = numpy.argmax(outputs)\n",
    "        values = [v[0] for v in outputs]\n",
    "        \n",
    "        matches = '!='\n",
    "        score = 0\n",
    "        if expected_label == actual_label:\n",
    "            matches = '=='\n",
    "            score = 1\n",
    "\n",
    "        scorecard.append(score)\n",
    "\n",
    "    accuracy = f\"{int(significant_digits*sum(scorecard)/len(scorecard))/significant_digits:8.6f}\"\n",
    "    if accuracy not in accuracy_values:\n",
    "        accuracy_values[accuracy] = []\n",
    "\n",
    "    accuracy_values[accuracy].append((hidden_nodes, learning_rate, epochs))\n",
    "    print(f\"{accuracy} <-- {(hidden_nodes, learning_rate, epochs)}\")\n",
    "\n",
    "Top10Accuracies = sorted(accuracy_values.keys(),reverse=True)[:10]\n",
    "\n",
    "for topAccuracy in Top10Accuracies:\n",
    "    print(f\"{topAccuracy} <-- {accuracy_values[topAccuracy]}\")"
   ]
  },
  {
   "cell_type": "code",
   "execution_count": null,
   "metadata": {},
   "outputs": [],
   "source": [
    "import pickle\n",
    "\n",
    "with open(\"accuracy_values.pickle\", \"wb\") as output:\n",
    "    pickle.dump(accuracy_values, output)"
   ]
  },
  {
   "cell_type": "code",
   "execution_count": null,
   "metadata": {},
   "outputs": [],
   "source": [
    "Top10Accuracies = sorted(accuracy_values.keys(),reverse=True)[:10]\n",
    "\n",
    "for topAccuracy in Top10Accuracies:\n",
    "    print(f\"{topAccuracy} <-- {accuracy_values[topAccuracy]}\")"
   ]
  }
 ],
 "metadata": {
  "kernelspec": {
   "display_name": "myonn",
   "language": "python",
   "name": "python3"
  },
  "language_info": {
   "codemirror_mode": {
    "name": "ipython",
    "version": 3
   },
   "file_extension": ".py",
   "mimetype": "text/x-python",
   "name": "python",
   "nbconvert_exporter": "python",
   "pygments_lexer": "ipython3",
   "version": "3.12.3"
  }
 },
 "nbformat": 4,
 "nbformat_minor": 2
}
