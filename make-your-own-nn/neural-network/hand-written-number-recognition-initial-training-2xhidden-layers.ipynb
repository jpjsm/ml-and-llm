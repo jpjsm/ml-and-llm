{
 "cells": [
  {
   "cell_type": "code",
   "execution_count": 30,
   "metadata": {},
   "outputs": [],
   "source": [
    "from NeuralNetworkHidden2 import NeuralNetworkHidden2\n",
    "import numpy\n",
    "import matplotlib.pyplot"
   ]
  },
  {
   "cell_type": "code",
   "execution_count": 31,
   "metadata": {},
   "outputs": [],
   "source": [
    "input_nodes = 784\n",
    "hidden_nodes = 100\n",
    "output_nodes = 10\n",
    "learning_rate = 0.22\n",
    "nn =NeuralNetworkHidden2(input_nodes, hidden_nodes,output_nodes,learning_rate)\n",
    "\n",
    "epochs = 6\n",
    "\n",
    "# Training Neural Network\n",
    "with open(\"../mnist_dataset/mnist_train_100.csv\", \"r\", encoding=\"utf-8\", newline='\\n') as input:\n",
    "    training_data_list = input.readlines()\n",
    "\n",
    "for e in range(epochs):\n",
    "    for record in training_data_list:\n",
    "        all_values = record.split(',')\n",
    "        label = all_values[0]\n",
    "        input_values = (numpy.asfarray(all_values[1:])/255.0*0.99)+.01\n",
    "        target_values = numpy.zeros(output_nodes) + 0.01\n",
    "        target_values[int(all_values[0])] = 0.99\n",
    "        nn.train(input_values, target_values)"
   ]
  },
  {
   "cell_type": "code",
   "execution_count": 32,
   "metadata": {},
   "outputs": [
    {
     "name": "stdout",
     "output_type": "stream",
     "text": [
      "Expected 7 == 7 actual\n",
      "Expected 2 != 0 actual\n",
      "Expected 1 == 1 actual\n",
      "Expected 0 == 0 actual\n",
      "Expected 4 == 4 actual\n",
      "Expected 1 == 1 actual\n",
      "Expected 4 == 4 actual\n",
      "Expected 9 != 4 actual\n",
      "Expected 5 != 6 actual\n",
      "Expected 9 != 7 actual\n",
      "0.6\n"
     ]
    }
   ],
   "source": [
    "# Test Neural Network performance\n",
    "with open(\"../mnist_dataset/mnist_test_10.csv\", \"r\", encoding=\"utf-8\", newline='\\n') as input:\n",
    "    test_data_list = input.readlines()\n",
    "\n",
    "scorecard = []\n",
    "for test_case in test_data_list:\n",
    "    all_values = test_case.split(',')\n",
    "    label = all_values[0]\n",
    "    expected_label = int(label)\n",
    "\n",
    "    image_array_scaled = ((numpy.asfarray(all_values[1:])/255.0*0.99)+.01).reshape((28,28))\n",
    "\n",
    "\n",
    "    outputs = nn.query((numpy.asfarray(all_values[1:])/255.0*0.99)+.01)\n",
    "    actual_label = numpy.argmax(outputs)\n",
    "    values = [v[0] for v in outputs]\n",
    "    #print(label, len(values), values)\n",
    "\n",
    "    matches = '!='\n",
    "    score = 0\n",
    "    if expected_label == actual_label:\n",
    "        matches = '=='\n",
    "        score = 1\n",
    "\n",
    "    scorecard.append(score)\n",
    "    print(f\"Expected {label} {matches} {str(actual_label)} actual\")\n",
    "    #matplotlib.pyplot.bar([str(i) for i in range(10)], values,)\n",
    "\n",
    "accuracy = sum(scorecard)/len(scorecard)\n",
    "print(accuracy)"
   ]
  },
  {
   "cell_type": "code",
   "execution_count": null,
   "metadata": {},
   "outputs": [],
   "source": []
  }
 ],
 "metadata": {
  "kernelspec": {
   "display_name": "myonn",
   "language": "python",
   "name": "python3"
  },
  "language_info": {
   "codemirror_mode": {
    "name": "ipython",
    "version": 3
   },
   "file_extension": ".py",
   "mimetype": "text/x-python",
   "name": "python",
   "nbconvert_exporter": "python",
   "pygments_lexer": "ipython3",
   "version": "3.12.3"
  }
 },
 "nbformat": 4,
 "nbformat_minor": 2
}
