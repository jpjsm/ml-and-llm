{
 "cells": [
  {
   "cell_type": "code",
   "execution_count": 1,
   "metadata": {},
   "outputs": [],
   "source": [
    "import numpy\n",
    "import matplotlib.pyplot\n",
    "import json\n",
    "%matplotlib inline"
   ]
  },
  {
   "cell_type": "code",
   "execution_count": 2,
   "metadata": {},
   "outputs": [],
   "source": [
    "with open(\"/mini-pictures/minipictures_train.json\", 'r') as input_json:\n",
    "    minipictures_train = json.load(input_json)"
   ]
  },
  {
   "cell_type": "code",
   "execution_count": 3,
   "metadata": {},
   "outputs": [
    {
     "name": "stdout",
     "output_type": "stream",
     "text": [
      "minipictures_train[0]={'Label': '\\\\', 'Inputs': [0.9578084194573564, 0.027066778074160136, 0.06369711316909873, 0.0772506896374025, 0.9812891552549476, 0.010804403172518517, 0.01791974764530513, 0.1388493201526942, 0.9070501537841462], 'foo': [0.02, 0.98, 0.02, 0.02]}\n",
      "all_values=[0.9578084194573564, 0.027066778074160136, 0.06369711316909873, 0.0772506896374025, 0.9812891552549476, 0.010804403172518517, 0.01791974764530513, 0.1388493201526942, 0.9070501537841462]\n",
      "label='\\\\'\n",
      "Expected value: \\\n"
     ]
    },
    {
     "data": {
      "text/plain": [
       "<matplotlib.image.AxesImage at 0x1bfeaa545f0>"
      ]
     },
     "execution_count": 3,
     "metadata": {},
     "output_type": "execute_result"
    },
    {
     "data": {
      "image/png": "[encoded data removed]",
      "text/plain": [
       "<Figure size 640x480 with 1 Axes>"
      ]
     },
     "metadata": {},
     "output_type": "display_data"
    }
   ],
   "source": [
    "print(f\"{minipictures_train[0]=}\")\n",
    "\n",
    "all_values = minipictures_train[0][\"Inputs\"]\n",
    "print(f\"{all_values=}\")\n",
    "label = minipictures_train[0][\"Label\"]\n",
    "print(f\"{label=}\")\n",
    "image_array = numpy.asfarray(all_values).reshape((3,3))\n",
    "\n",
    "print(f\"Expected value: {label}\")\n",
    "matplotlib.pyplot.imshow(image_array, cmap='Greys', interpolation='None')"
   ]
  }
 ],
 "metadata": {
  "kernelspec": {
   "display_name": "myonn",
   "language": "python",
   "name": "python3"
  },
  "language_info": {
   "codemirror_mode": {
    "name": "ipython",
    "version": 3
   },
   "file_extension": ".py",
   "mimetype": "text/x-python",
   "name": "python",
   "nbconvert_exporter": "python",
   "pygments_lexer": "ipython3",
   "version": "3.12.3"
  }
 },
 "nbformat": 4,
 "nbformat_minor": 2
}
